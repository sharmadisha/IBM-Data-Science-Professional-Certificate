{
    "nbformat_minor": 1, 
    "cells": [
        {
            "source": "\nimport types\nimport pandas as pd\nfrom botocore.client import Config\nimport ibm_boto3\nfrom bokeh.plotting import figure, output_file, show,output_notebook\noutput_notebook()\n\n\ndef __iter__(self): return 0\n\n# @hidden_cell\n# The following code accesses a file in your IBM Cloud Object Storage. It includes your credentials.\n# You might want to remove those credentials before you share your notebook.\nclient_fa499ce09b22451b8414b72d3eaaae56 = ibm_boto3.client(service_name='s3',\n    ibm_api_key_id='dGj71JZJBS4d0vzIhdPb0BLxufE9QHcEzhmeKleKWyeh',\n    ibm_auth_endpoint=\"https://iam.bluemix.net/oidc/token\",\n    config=Config(signature_version='oauth'),\n    endpoint_url='https://s3-api.us-geo.objectstorage.service.networklayer.com')\n\nbody = client_fa499ce09b22451b8414b72d3eaaae56.get_object(Bucket='ibmdatascienceprofessionalcertifi-donotdelete-pr-vfe9abefhaikhn',Key='us-gdp-disha.csv')['Body']\n# add missing __iter__ method, so pandas accepts body as file-like object\nif not hasattr(body, \"__iter__\"): body.__iter__ = types.MethodType( __iter__, body )\n\ndf_data_1 = pd.read_csv(body)\ndf_data_1.head()\n\n", 
            "cell_type": "code", 
            "metadata": {}, 
            "outputs": [
                {
                    "output_type": "display_data", 
                    "data": {
                        "text/html": "\n    <div class=\"bk-root\">\n        <a href=\"https://bokeh.pydata.org\" target=\"_blank\" class=\"bk-logo bk-logo-small bk-logo-notebook\"></a>\n        <span id=\"31f20743-ecc4-4f83-acee-66185618177a\">Loading BokehJS ...</span>\n    </div>"
                    }, 
                    "metadata": {}
                }, 
                {
                    "output_type": "display_data", 
                    "data": {
                        "application/javascript": "\n(function(root) {\n  function now() {\n    return new Date();\n  }\n\n  var force = true;\n\n  if (typeof (root._bokeh_onload_callbacks) === \"undefined\" || force === true) {\n    root._bokeh_onload_callbacks = [];\n    root._bokeh_is_loading = undefined;\n  }\n\n  var JS_MIME_TYPE = 'application/javascript';\n  var HTML_MIME_TYPE = 'text/html';\n  var EXEC_MIME_TYPE = 'application/vnd.bokehjs_exec.v0+json';\n  var CLASS_NAME = 'output_bokeh rendered_html';\n\n  /**\n   * Render data to the DOM node\n   */\n  function render(props, node) {\n    var script = document.createElement(\"script\");\n    node.appendChild(script);\n  }\n\n  /**\n   * Handle when an output is cleared or removed\n   */\n  function handleClearOutput(event, handle) {\n    var cell = handle.cell;\n\n    var id = cell.output_area._bokeh_element_id;\n    var server_id = cell.output_area._bokeh_server_id;\n    // Clean up Bokeh references\n    if (id !== undefined) {\n      Bokeh.index[id].model.document.clear();\n      delete Bokeh.index[id];\n    }\n\n    if (server_id !== undefined) {\n      // Clean up Bokeh references\n      var cmd = \"from bokeh.io.state import curstate; print(curstate().uuid_to_server['\" + server_id + \"'].get_sessions()[0].document.roots[0]._id)\";\n      cell.notebook.kernel.execute(cmd, {\n        iopub: {\n          output: function(msg) {\n            var element_id = msg.content.text.trim();\n            Bokeh.index[element_id].model.document.clear();\n            delete Bokeh.index[element_id];\n          }\n        }\n      });\n      // Destroy server and session\n      var cmd = \"import bokeh.io.notebook as ion; ion.destroy_server('\" + server_id + \"')\";\n      cell.notebook.kernel.execute(cmd);\n    }\n  }\n\n  /**\n   * Handle when a new output is added\n   */\n  function handleAddOutput(event, handle) {\n    var output_area = handle.output_area;\n    var output = handle.output;\n\n    // limit handleAddOutput to display_data with EXEC_MIME_TYPE content only\n    if ((output.output_type != \"display_data\") || (!output.data.hasOwnProperty(EXEC_MIME_TYPE))) {\n      return\n    }\n\n    var toinsert = output_area.element.find(`.${CLASS_NAME.split(' ')[0]}`);\n\n    if (output.metadata[EXEC_MIME_TYPE][\"id\"] !== undefined) {\n      toinsert[0].firstChild.textContent = output.data[JS_MIME_TYPE];\n      // store reference to embed id on output_area\n      output_area._bokeh_element_id = output.metadata[EXEC_MIME_TYPE][\"id\"];\n    }\n    if (output.metadata[EXEC_MIME_TYPE][\"server_id\"] !== undefined) {\n      var bk_div = document.createElement(\"div\");\n      bk_div.innerHTML = output.data[HTML_MIME_TYPE];\n      var script_attrs = bk_div.children[0].attributes;\n      for (var i = 0; i < script_attrs.length; i++) {\n        toinsert[0].firstChild.setAttribute(script_attrs[i].name, script_attrs[i].value);\n      }\n      // store reference to server id on output_area\n      output_area._bokeh_server_id = output.metadata[EXEC_MIME_TYPE][\"server_id\"];\n    }\n  }\n\n  function register_renderer(events, OutputArea) {\n\n    function append_mime(data, metadata, element) {\n      // create a DOM node to render to\n      var toinsert = this.create_output_subarea(\n        metadata,\n        CLASS_NAME,\n        EXEC_MIME_TYPE\n      );\n      this.keyboard_manager.register_events(toinsert);\n      // Render to node\n      var props = {data: data, metadata: metadata[EXEC_MIME_TYPE]};\n      render(props, toinsert[0]);\n      element.append(toinsert);\n      return toinsert\n    }\n\n    /* Handle when an output is cleared or removed */\n    events.on('clear_output.CodeCell', handleClearOutput);\n    events.on('delete.Cell', handleClearOutput);\n\n    /* Handle when a new output is added */\n    events.on('output_added.OutputArea', handleAddOutput);\n\n    /**\n     * Register the mime type and append_mime function with output_area\n     */\n    OutputArea.prototype.register_mime_type(EXEC_MIME_TYPE, append_mime, {\n      /* Is output safe? */\n      safe: true,\n      /* Index of renderer in `output_area.display_order` */\n      index: 0\n    });\n  }\n\n  // register the mime type if in Jupyter Notebook environment and previously unregistered\n  if (root.Jupyter !== undefined) {\n    var events = require('base/js/events');\n    var OutputArea = require('notebook/js/outputarea').OutputArea;\n\n    if (OutputArea.prototype.mime_types().indexOf(EXEC_MIME_TYPE) == -1) {\n      register_renderer(events, OutputArea);\n    }\n  }\n\n  \n  if (typeof (root._bokeh_timeout) === \"undefined\" || force === true) {\n    root._bokeh_timeout = Date.now() + 5000;\n    root._bokeh_failed_load = false;\n  }\n\n  var NB_LOAD_WARNING = {'data': {'text/html':\n     \"<div style='background-color: #fdd'>\\n\"+\n     \"<p>\\n\"+\n     \"BokehJS does not appear to have successfully loaded. If loading BokehJS from CDN, this \\n\"+\n     \"may be due to a slow or bad network connection. Possible fixes:\\n\"+\n     \"</p>\\n\"+\n     \"<ul>\\n\"+\n     \"<li>re-rerun `output_notebook()` to attempt to load from CDN again, or</li>\\n\"+\n     \"<li>use INLINE resources instead, as so:</li>\\n\"+\n     \"</ul>\\n\"+\n     \"<code>\\n\"+\n     \"from bokeh.resources import INLINE\\n\"+\n     \"output_notebook(resources=INLINE)\\n\"+\n     \"</code>\\n\"+\n     \"</div>\"}};\n\n  function display_loaded() {\n    var el = document.getElementById(\"31f20743-ecc4-4f83-acee-66185618177a\");\n    if (el != null) {\n      el.textContent = \"BokehJS is loading...\";\n    }\n    if (root.Bokeh !== undefined) {\n      if (el != null) {\n        el.textContent = \"BokehJS \" + root.Bokeh.version + \" successfully loaded.\";\n      }\n    } else if (Date.now() < root._bokeh_timeout) {\n      setTimeout(display_loaded, 100)\n    }\n  }\n\n\n  function run_callbacks() {\n    try {\n      root._bokeh_onload_callbacks.forEach(function(callback) { callback() });\n    }\n    finally {\n      delete root._bokeh_onload_callbacks\n    }\n    console.info(\"Bokeh: all callbacks have finished\");\n  }\n\n  function load_libs(js_urls, callback) {\n    root._bokeh_onload_callbacks.push(callback);\n    if (root._bokeh_is_loading > 0) {\n      console.log(\"Bokeh: BokehJS is being loaded, scheduling callback at\", now());\n      return null;\n    }\n    if (js_urls == null || js_urls.length === 0) {\n      run_callbacks();\n      return null;\n    }\n    console.log(\"Bokeh: BokehJS not loaded, scheduling load and callback at\", now());\n    root._bokeh_is_loading = js_urls.length;\n    for (var i = 0; i < js_urls.length; i++) {\n      var url = js_urls[i];\n      var s = document.createElement('script');\n      s.src = url;\n      s.async = false;\n      s.onreadystatechange = s.onload = function() {\n        root._bokeh_is_loading--;\n        if (root._bokeh_is_loading === 0) {\n          console.log(\"Bokeh: all BokehJS libraries loaded\");\n          run_callbacks()\n        }\n      };\n      s.onerror = function() {\n        console.warn(\"failed to load library \" + url);\n      };\n      console.log(\"Bokeh: injecting script tag for BokehJS library: \", url);\n      document.getElementsByTagName(\"head\")[0].appendChild(s);\n    }\n  };var element = document.getElementById(\"31f20743-ecc4-4f83-acee-66185618177a\");\n  if (element == null) {\n    console.log(\"Bokeh: ERROR: autoload.js configured with elementid '31f20743-ecc4-4f83-acee-66185618177a' but no matching script tag was found. \")\n    return false;\n  }\n\n  var js_urls = [\"https://cdn.pydata.org/bokeh/release/bokeh-0.12.10.min.js\", \"https://cdn.pydata.org/bokeh/release/bokeh-widgets-0.12.10.min.js\", \"https://cdn.pydata.org/bokeh/release/bokeh-tables-0.12.10.min.js\", \"https://cdn.pydata.org/bokeh/release/bokeh-gl-0.12.10.min.js\"];\n\n  var inline_js = [\n    function(Bokeh) {\n      Bokeh.set_log_level(\"info\");\n    },\n    \n    function(Bokeh) {\n      \n    },\n    function(Bokeh) {\n      console.log(\"Bokeh: injecting CSS: https://cdn.pydata.org/bokeh/release/bokeh-0.12.10.min.css\");\n      Bokeh.embed.inject_css(\"https://cdn.pydata.org/bokeh/release/bokeh-0.12.10.min.css\");\n      console.log(\"Bokeh: injecting CSS: https://cdn.pydata.org/bokeh/release/bokeh-widgets-0.12.10.min.css\");\n      Bokeh.embed.inject_css(\"https://cdn.pydata.org/bokeh/release/bokeh-widgets-0.12.10.min.css\");\n      console.log(\"Bokeh: injecting CSS: https://cdn.pydata.org/bokeh/release/bokeh-tables-0.12.10.min.css\");\n      Bokeh.embed.inject_css(\"https://cdn.pydata.org/bokeh/release/bokeh-tables-0.12.10.min.css\");\n    }\n  ];\n\n  function run_inline_js() {\n    \n    if ((root.Bokeh !== undefined) || (force === true)) {\n      for (var i = 0; i < inline_js.length; i++) {\n        inline_js[i].call(root, root.Bokeh);\n      }if (force === true) {\n        display_loaded();\n      }} else if (Date.now() < root._bokeh_timeout) {\n      setTimeout(run_inline_js, 100);\n    } else if (!root._bokeh_failed_load) {\n      console.log(\"Bokeh: BokehJS failed to load within specified timeout.\");\n      root._bokeh_failed_load = true;\n    } else if (force !== true) {\n      var cell = $(document.getElementById(\"31f20743-ecc4-4f83-acee-66185618177a\")).parents('.cell').data().cell;\n      cell.output_area.append_execute_result(NB_LOAD_WARNING)\n    }\n\n  }\n\n  if (root._bokeh_is_loading === 0) {\n    console.log(\"Bokeh: BokehJS loaded, going straight to plotting\");\n    run_inline_js();\n  } else {\n    load_libs(js_urls, function() {\n      console.log(\"Bokeh: BokehJS plotting callback run at\", now());\n      run_inline_js();\n    });\n  }\n}(window));", 
                        "application/vnd.bokehjs_load.v0+json": "\n(function(root) {\n  function now() {\n    return new Date();\n  }\n\n  var force = true;\n\n  if (typeof (root._bokeh_onload_callbacks) === \"undefined\" || force === true) {\n    root._bokeh_onload_callbacks = [];\n    root._bokeh_is_loading = undefined;\n  }\n\n  \n\n  \n  if (typeof (root._bokeh_timeout) === \"undefined\" || force === true) {\n    root._bokeh_timeout = Date.now() + 5000;\n    root._bokeh_failed_load = false;\n  }\n\n  var NB_LOAD_WARNING = {'data': {'text/html':\n     \"<div style='background-color: #fdd'>\\n\"+\n     \"<p>\\n\"+\n     \"BokehJS does not appear to have successfully loaded. If loading BokehJS from CDN, this \\n\"+\n     \"may be due to a slow or bad network connection. Possible fixes:\\n\"+\n     \"</p>\\n\"+\n     \"<ul>\\n\"+\n     \"<li>re-rerun `output_notebook()` to attempt to load from CDN again, or</li>\\n\"+\n     \"<li>use INLINE resources instead, as so:</li>\\n\"+\n     \"</ul>\\n\"+\n     \"<code>\\n\"+\n     \"from bokeh.resources import INLINE\\n\"+\n     \"output_notebook(resources=INLINE)\\n\"+\n     \"</code>\\n\"+\n     \"</div>\"}};\n\n  function display_loaded() {\n    var el = document.getElementById(\"31f20743-ecc4-4f83-acee-66185618177a\");\n    if (el != null) {\n      el.textContent = \"BokehJS is loading...\";\n    }\n    if (root.Bokeh !== undefined) {\n      if (el != null) {\n        el.textContent = \"BokehJS \" + root.Bokeh.version + \" successfully loaded.\";\n      }\n    } else if (Date.now() < root._bokeh_timeout) {\n      setTimeout(display_loaded, 100)\n    }\n  }\n\n\n  function run_callbacks() {\n    try {\n      root._bokeh_onload_callbacks.forEach(function(callback) { callback() });\n    }\n    finally {\n      delete root._bokeh_onload_callbacks\n    }\n    console.info(\"Bokeh: all callbacks have finished\");\n  }\n\n  function load_libs(js_urls, callback) {\n    root._bokeh_onload_callbacks.push(callback);\n    if (root._bokeh_is_loading > 0) {\n      console.log(\"Bokeh: BokehJS is being loaded, scheduling callback at\", now());\n      return null;\n    }\n    if (js_urls == null || js_urls.length === 0) {\n      run_callbacks();\n      return null;\n    }\n    console.log(\"Bokeh: BokehJS not loaded, scheduling load and callback at\", now());\n    root._bokeh_is_loading = js_urls.length;\n    for (var i = 0; i < js_urls.length; i++) {\n      var url = js_urls[i];\n      var s = document.createElement('script');\n      s.src = url;\n      s.async = false;\n      s.onreadystatechange = s.onload = function() {\n        root._bokeh_is_loading--;\n        if (root._bokeh_is_loading === 0) {\n          console.log(\"Bokeh: all BokehJS libraries loaded\");\n          run_callbacks()\n        }\n      };\n      s.onerror = function() {\n        console.warn(\"failed to load library \" + url);\n      };\n      console.log(\"Bokeh: injecting script tag for BokehJS library: \", url);\n      document.getElementsByTagName(\"head\")[0].appendChild(s);\n    }\n  };var element = document.getElementById(\"31f20743-ecc4-4f83-acee-66185618177a\");\n  if (element == null) {\n    console.log(\"Bokeh: ERROR: autoload.js configured with elementid '31f20743-ecc4-4f83-acee-66185618177a' but no matching script tag was found. \")\n    return false;\n  }\n\n  var js_urls = [\"https://cdn.pydata.org/bokeh/release/bokeh-0.12.10.min.js\", \"https://cdn.pydata.org/bokeh/release/bokeh-widgets-0.12.10.min.js\", \"https://cdn.pydata.org/bokeh/release/bokeh-tables-0.12.10.min.js\", \"https://cdn.pydata.org/bokeh/release/bokeh-gl-0.12.10.min.js\"];\n\n  var inline_js = [\n    function(Bokeh) {\n      Bokeh.set_log_level(\"info\");\n    },\n    \n    function(Bokeh) {\n      \n    },\n    function(Bokeh) {\n      console.log(\"Bokeh: injecting CSS: https://cdn.pydata.org/bokeh/release/bokeh-0.12.10.min.css\");\n      Bokeh.embed.inject_css(\"https://cdn.pydata.org/bokeh/release/bokeh-0.12.10.min.css\");\n      console.log(\"Bokeh: injecting CSS: https://cdn.pydata.org/bokeh/release/bokeh-widgets-0.12.10.min.css\");\n      Bokeh.embed.inject_css(\"https://cdn.pydata.org/bokeh/release/bokeh-widgets-0.12.10.min.css\");\n      console.log(\"Bokeh: injecting CSS: https://cdn.pydata.org/bokeh/release/bokeh-tables-0.12.10.min.css\");\n      Bokeh.embed.inject_css(\"https://cdn.pydata.org/bokeh/release/bokeh-tables-0.12.10.min.css\");\n    }\n  ];\n\n  function run_inline_js() {\n    \n    if ((root.Bokeh !== undefined) || (force === true)) {\n      for (var i = 0; i < inline_js.length; i++) {\n        inline_js[i].call(root, root.Bokeh);\n      }if (force === true) {\n        display_loaded();\n      }} else if (Date.now() < root._bokeh_timeout) {\n      setTimeout(run_inline_js, 100);\n    } else if (!root._bokeh_failed_load) {\n      console.log(\"Bokeh: BokehJS failed to load within specified timeout.\");\n      root._bokeh_failed_load = true;\n    } else if (force !== true) {\n      var cell = $(document.getElementById(\"31f20743-ecc4-4f83-acee-66185618177a\")).parents('.cell').data().cell;\n      cell.output_area.append_execute_result(NB_LOAD_WARNING)\n    }\n\n  }\n\n  if (root._bokeh_is_loading === 0) {\n    console.log(\"Bokeh: BokehJS loaded, going straight to plotting\");\n    run_inline_js();\n  } else {\n    load_libs(js_urls, function() {\n      console.log(\"Bokeh: BokehJS plotting callback run at\", now());\n      run_inline_js();\n    });\n  }\n}(window));"
                    }, 
                    "metadata": {}
                }, 
                {
                    "output_type": "execute_result", 
                    "data": {
                        "text/html": "<div>\n<style scoped>\n    .dataframe tbody tr th:only-of-type {\n        vertical-align: middle;\n    }\n\n    .dataframe tbody tr th {\n        vertical-align: top;\n    }\n\n    .dataframe thead th {\n        text-align: right;\n    }\n</style>\n<table border=\"1\" class=\"dataframe\">\n  <thead>\n    <tr style=\"text-align: right;\">\n      <th></th>\n      <th>date</th>\n      <th>level-current</th>\n      <th>level-chained</th>\n      <th>change-current</th>\n      <th>change-chained</th>\n    </tr>\n  </thead>\n  <tbody>\n    <tr>\n      <th>0</th>\n      <td>1975</td>\n      <td>1688.9</td>\n      <td>5385.4</td>\n      <td>11.2</td>\n      <td>5.4</td>\n    </tr>\n    <tr>\n      <th>1</th>\n      <td>1976</td>\n      <td>1877.6</td>\n      <td>5675.4</td>\n      <td>11.1</td>\n      <td>4.6</td>\n    </tr>\n    <tr>\n      <th>2</th>\n      <td>1977</td>\n      <td>2086.0</td>\n      <td>5937.0</td>\n      <td>13.0</td>\n      <td>5.5</td>\n    </tr>\n    <tr>\n      <th>3</th>\n      <td>1978</td>\n      <td>2356.6</td>\n      <td>6267.2</td>\n      <td>11.7</td>\n      <td>3.2</td>\n    </tr>\n    <tr>\n      <th>4</th>\n      <td>1979</td>\n      <td>2632.1</td>\n      <td>6466.2</td>\n      <td>8.8</td>\n      <td>-0.3</td>\n    </tr>\n  </tbody>\n</table>\n</div>", 
                        "text/plain": "   date  level-current  level-chained  change-current  change-chained\n0  1975         1688.9         5385.4            11.2             5.4\n1  1976         1877.6         5675.4            11.1             4.6\n2  1977         2086.0         5937.0            13.0             5.5\n3  1978         2356.6         6267.2            11.7             3.2\n4  1979         2632.1         6466.2             8.8            -0.3"
                    }, 
                    "execution_count": 1, 
                    "metadata": {}
                }
            ], 
            "execution_count": 1
        }, 
        {
            "source": "\nbody = client_fa499ce09b22451b8414b72d3eaaae56.get_object(Bucket='ibmdatascienceprofessionalcertifi-donotdelete-pr-vfe9abefhaikhn',Key='us-unemp-disha.csv')['Body']\n# add missing __iter__ method, so pandas accepts body as file-like object\nif not hasattr(body, \"__iter__\"): body.__iter__ = types.MethodType( __iter__, body )\n\ndf_data_2 = pd.read_csv(body)\ndf_data_2.head(5)\n\n", 
            "cell_type": "code", 
            "metadata": {}, 
            "outputs": [
                {
                    "output_type": "execute_result", 
                    "data": {
                        "text/html": "<div>\n<style scoped>\n    .dataframe tbody tr th:only-of-type {\n        vertical-align: middle;\n    }\n\n    .dataframe tbody tr th {\n        vertical-align: top;\n    }\n\n    .dataframe thead th {\n        text-align: right;\n    }\n</style>\n<table border=\"1\" class=\"dataframe\">\n  <thead>\n    <tr style=\"text-align: right;\">\n      <th></th>\n      <th>date</th>\n      <th>unemployment</th>\n    </tr>\n  </thead>\n  <tbody>\n    <tr>\n      <th>0</th>\n      <td>1975</td>\n      <td>8.475000</td>\n    </tr>\n    <tr>\n      <th>1</th>\n      <td>1976</td>\n      <td>7.700000</td>\n    </tr>\n    <tr>\n      <th>2</th>\n      <td>1977</td>\n      <td>7.050000</td>\n    </tr>\n    <tr>\n      <th>3</th>\n      <td>1978</td>\n      <td>6.066667</td>\n    </tr>\n    <tr>\n      <th>4</th>\n      <td>1979</td>\n      <td>5.850000</td>\n    </tr>\n  </tbody>\n</table>\n</div>", 
                        "text/plain": "   date  unemployment\n0  1975      8.475000\n1  1976      7.700000\n2  1977      7.050000\n3  1978      6.066667\n4  1979      5.850000"
                    }, 
                    "execution_count": 2, 
                    "metadata": {}
                }
            ], 
            "execution_count": 2
        }, 
        {
            "source": "df_data_3 = df_data_2[df_data_2['unemployment'] > 8.5]\ndf_data_3.head(5)", 
            "cell_type": "code", 
            "metadata": {}, 
            "outputs": [
                {
                    "output_type": "execute_result", 
                    "data": {
                        "text/html": "<div>\n<style scoped>\n    .dataframe tbody tr th:only-of-type {\n        vertical-align: middle;\n    }\n\n    .dataframe tbody tr th {\n        vertical-align: top;\n    }\n\n    .dataframe thead th {\n        text-align: right;\n    }\n</style>\n<table border=\"1\" class=\"dataframe\">\n  <thead>\n    <tr style=\"text-align: right;\">\n      <th></th>\n      <th>date</th>\n      <th>unemployment</th>\n    </tr>\n  </thead>\n  <tbody>\n    <tr>\n      <th>7</th>\n      <td>1982</td>\n      <td>9.708333</td>\n    </tr>\n    <tr>\n      <th>8</th>\n      <td>1983</td>\n      <td>9.600000</td>\n    </tr>\n    <tr>\n      <th>34</th>\n      <td>2009</td>\n      <td>9.283333</td>\n    </tr>\n    <tr>\n      <th>35</th>\n      <td>2010</td>\n      <td>9.608333</td>\n    </tr>\n    <tr>\n      <th>36</th>\n      <td>2011</td>\n      <td>8.933333</td>\n    </tr>\n  </tbody>\n</table>\n</div>", 
                        "text/plain": "    date  unemployment\n7   1982      9.708333\n8   1983      9.600000\n34  2009      9.283333\n35  2010      9.608333\n36  2011      8.933333"
                    }, 
                    "execution_count": 3, 
                    "metadata": {}
                }
            ], 
            "execution_count": 3
        }, 
        {
            "source": "def make_dashboard(x, gdp_change, unemployment, title, file_name):\n    output_file(file_name)\n    p = figure(title=title, x_axis_label='year', y_axis_label='%')\n    p.line(x.squeeze(), gdp_change.squeeze(), color=\"firebrick\", line_width=4, legend=\"% GDP change\")\n    p.line(x.squeeze(), unemployment.squeeze(), line_width=4, legend=\"% unemployed\")\n    show(p)", 
            "cell_type": "code", 
            "metadata": {}, 
            "outputs": [], 
            "execution_count": 5
        }, 
        {
            "source": "x = df_data_1['date']\nx.head()", 
            "cell_type": "code", 
            "metadata": {}, 
            "outputs": [
                {
                    "output_type": "execute_result", 
                    "data": {
                        "text/plain": "0    1975\n1    1976\n2    1977\n3    1978\n4    1979\nName: date, dtype: int64"
                    }, 
                    "execution_count": 6, 
                    "metadata": {}
                }
            ], 
            "execution_count": 6
        }, 
        {
            "source": "gdp_change = df_data_1['change-current'] \ngdp_change.head()", 
            "cell_type": "code", 
            "metadata": {}, 
            "outputs": [
                {
                    "output_type": "execute_result", 
                    "data": {
                        "text/plain": "0    11.2\n1    11.1\n2    13.0\n3    11.7\n4     8.8\nName: change-current, dtype: float64"
                    }, 
                    "execution_count": 7, 
                    "metadata": {}
                }
            ], 
            "execution_count": 7
        }, 
        {
            "source": "unemployment = df_data_2['unemployment']\nunemployment.head()", 
            "cell_type": "code", 
            "metadata": {}, 
            "outputs": [
                {
                    "output_type": "execute_result", 
                    "data": {
                        "text/plain": "0    8.475000\n1    7.700000\n2    7.050000\n3    6.066667\n4    5.850000\nName: unemployment, dtype: float64"
                    }, 
                    "execution_count": 8, 
                    "metadata": {}
                }
            ], 
            "execution_count": 8
        }, 
        {
            "source": "title = 'GDP and Unemployment Data'", 
            "cell_type": "code", 
            "metadata": {}, 
            "outputs": [], 
            "execution_count": 9
        }, 
        {
            "source": "file_name = \"main.html\"", 
            "cell_type": "code", 
            "metadata": {}, 
            "outputs": [], 
            "execution_count": 12
        }, 
        {
            "source": "make_dashboard(x=x, gdp_change=gdp_change, unemployment= unemployment, title=title, file_name=file_name)", 
            "cell_type": "code", 
            "metadata": {}, 
            "outputs": [
                {
                    "output_type": "display_data", 
                    "data": {
                        "text/html": "\n<div class=\"bk-root\">\n    <div class=\"bk-plotdiv\" id=\"1abb4be0-2e73-42af-ac2a-6fbc9223c9ae\"></div>\n</div>"
                    }, 
                    "metadata": {}
                }, 
                {
                    "output_type": "display_data", 
                    "data": {
                        "application/javascript": "(function(root) {\n  function embed_document(root) {\n    var docs_json = {\"d88ff302-3e37-46e3-a694-07bc4d7a6ce6\":{\"roots\":{\"references\":[{\"attributes\":{\"plot\":null,\"text\":\"GDP and Unemployment Data\"},\"id\":\"5094e80f-5d8a-4c33-a3e8-a760f9e19c38\",\"type\":\"Title\"},{\"attributes\":{\"line_color\":{\"value\":\"firebrick\"},\"line_width\":{\"value\":4},\"x\":{\"field\":\"x\"},\"y\":{\"field\":\"y\"}},\"id\":\"040e3cf3-4755-41b7-895c-4629a4f111f4\",\"type\":\"Line\"},{\"attributes\":{\"bottom_units\":\"screen\",\"fill_alpha\":{\"value\":0.5},\"fill_color\":{\"value\":\"lightgrey\"},\"left_units\":\"screen\",\"level\":\"overlay\",\"line_alpha\":{\"value\":1.0},\"line_color\":{\"value\":\"black\"},\"line_dash\":[4,4],\"line_width\":{\"value\":2},\"plot\":null,\"render_mode\":\"css\",\"right_units\":\"screen\",\"top_units\":\"screen\"},\"id\":\"b9a9ad8b-f2ea-4167-b488-c995744e3ae6\",\"type\":\"BoxAnnotation\"},{\"attributes\":{\"plot\":{\"id\":\"6301b381-66e8-4934-be71-b83c0eca2d5b\",\"subtype\":\"Figure\",\"type\":\"Plot\"},\"ticker\":{\"id\":\"17646e20-1b30-42e2-bbb7-6c4a735ea42c\",\"type\":\"BasicTicker\"}},\"id\":\"a481aae6-4a96-4b7b-bb39-987e87f9f0ab\",\"type\":\"Grid\"},{\"attributes\":{\"line_alpha\":{\"value\":0.1},\"line_color\":{\"value\":\"#1f77b4\"},\"line_width\":{\"value\":4},\"x\":{\"field\":\"x\"},\"y\":{\"field\":\"y\"}},\"id\":\"397a651b-ab3f-421d-b73f-350b9d6ef51a\",\"type\":\"Line\"},{\"attributes\":{\"line_alpha\":{\"value\":0.1},\"line_color\":{\"value\":\"#1f77b4\"},\"line_width\":{\"value\":4},\"x\":{\"field\":\"x\"},\"y\":{\"field\":\"y\"}},\"id\":\"28619471-8683-45a5-858a-c2da702eca99\",\"type\":\"Line\"},{\"attributes\":{\"callback\":null},\"id\":\"04cc7edf-24de-4ab7-9551-abdf4f3d9fec\",\"type\":\"DataRange1d\"},{\"attributes\":{\"source\":{\"id\":\"f5f09c2d-9c33-4e7b-9235-0a5f1ce197c3\",\"type\":\"ColumnDataSource\"}},\"id\":\"0a8c0a97-ee48-4c8f-9910-d097431163b4\",\"type\":\"CDSView\"},{\"attributes\":{\"callback\":null,\"column_names\":[\"x\",\"y\"],\"data\":{\"x\":[1975,1976,1977,1978,1979,1980,1981,1982,1983,1984,1985,1986,1987,1988,1989,1990,1991,1992,1993,1994,1995,1996,1997,1998,1999,2000,2001,2002,2003,2004,2005,2006,2007,2008,2009,2010,2011,2012,2013,2014,2015,2016],\"y\":{\"__ndarray__\":\"ZmZmZmZmJkAzMzMzMzMmQAAAAAAAACpAZmZmZmZmJ0CamZmZmZkhQGZmZmZmZihAMzMzMzMzEUBmZmZmZmYhQDMzMzMzMyZAAAAAAAAAHkAAAAAAAAAWQAAAAAAAABhAmpmZmZmZH0DNzMzMzMweQM3MzMzMzBZAZmZmZmZmCkCamZmZmZkXQM3MzMzMzBRAMzMzMzMzGUAzMzMzMzMTQM3MzMzMzBZAzczMzMzMGEDNzMzMzMwWQDMzMzMzMxlAAAAAAAAAGkCamZmZmZkJQDMzMzMzMwtAMzMzMzMzE0BmZmZmZmYaQM3MzMzMzBpAAAAAAAAAGEBmZmZmZmYSQM3MzMzMzPw/zczMzMzM/L9mZmZmZmYOQJqZmZmZmQ1AzczMzMzMEEDNzMzMzMwMQJqZmZmZmRFAAAAAAAAAEECamZmZmZkFQM3MzMzMzBBA\",\"dtype\":\"float64\",\"shape\":[42]}}},\"id\":\"f5f09c2d-9c33-4e7b-9235-0a5f1ce197c3\",\"type\":\"ColumnDataSource\"},{\"attributes\":{},\"id\":\"ebb4809a-86e1-47bf-bb3e-0acc6e5ead38\",\"type\":\"SaveTool\"},{\"attributes\":{\"axis_label\":\"%\",\"formatter\":{\"id\":\"f02737b3-9954-454a-8603-163d4bb03abc\",\"type\":\"BasicTickFormatter\"},\"plot\":{\"id\":\"6301b381-66e8-4934-be71-b83c0eca2d5b\",\"subtype\":\"Figure\",\"type\":\"Plot\"},\"ticker\":{\"id\":\"43555b20-084f-4fd8-a0be-967513ea869d\",\"type\":\"BasicTicker\"}},\"id\":\"dc2aec48-426a-49cf-b9ff-2478ccb145aa\",\"type\":\"LinearAxis\"},{\"attributes\":{\"callback\":null},\"id\":\"65dffbdc-7c18-4b07-9f8c-309a9a55ac9c\",\"type\":\"DataRange1d\"},{\"attributes\":{},\"id\":\"1bf5ec3f-992a-4932-b8c5-c8337fa01ac0\",\"type\":\"ResetTool\"},{\"attributes\":{\"items\":[{\"id\":\"2d238646-66cb-4c5a-9ee4-a806035578bd\",\"type\":\"LegendItem\"},{\"id\":\"1085fd23-d98a-4321-b9be-2a918c813e8a\",\"type\":\"LegendItem\"}],\"plot\":{\"id\":\"6301b381-66e8-4934-be71-b83c0eca2d5b\",\"subtype\":\"Figure\",\"type\":\"Plot\"}},\"id\":\"80ecd135-97dd-4bc6-bef0-5ea9a554fab3\",\"type\":\"Legend\"},{\"attributes\":{\"dimension\":1,\"plot\":{\"id\":\"6301b381-66e8-4934-be71-b83c0eca2d5b\",\"subtype\":\"Figure\",\"type\":\"Plot\"},\"ticker\":{\"id\":\"43555b20-084f-4fd8-a0be-967513ea869d\",\"type\":\"BasicTicker\"}},\"id\":\"1a6829a1-d72c-40ee-a1f6-3f126cd6a929\",\"type\":\"Grid\"},{\"attributes\":{\"label\":{\"value\":\"% unemployed\"},\"renderers\":[{\"id\":\"684f7392-679c-4a9b-a8eb-c4764a0614d3\",\"type\":\"GlyphRenderer\"}]},\"id\":\"1085fd23-d98a-4321-b9be-2a918c813e8a\",\"type\":\"LegendItem\"},{\"attributes\":{\"label\":{\"value\":\"% GDP change\"},\"renderers\":[{\"id\":\"e811e170-d294-49be-badd-7d618fcbbf4c\",\"type\":\"GlyphRenderer\"}]},\"id\":\"2d238646-66cb-4c5a-9ee4-a806035578bd\",\"type\":\"LegendItem\"},{\"attributes\":{\"data_source\":{\"id\":\"f5f09c2d-9c33-4e7b-9235-0a5f1ce197c3\",\"type\":\"ColumnDataSource\"},\"glyph\":{\"id\":\"040e3cf3-4755-41b7-895c-4629a4f111f4\",\"type\":\"Line\"},\"hover_glyph\":null,\"muted_glyph\":null,\"nonselection_glyph\":{\"id\":\"28619471-8683-45a5-858a-c2da702eca99\",\"type\":\"Line\"},\"selection_glyph\":null,\"view\":{\"id\":\"0a8c0a97-ee48-4c8f-9910-d097431163b4\",\"type\":\"CDSView\"}},\"id\":\"e811e170-d294-49be-badd-7d618fcbbf4c\",\"type\":\"GlyphRenderer\"},{\"attributes\":{\"source\":{\"id\":\"8069b685-5c12-4729-94dd-e657dc2982f6\",\"type\":\"ColumnDataSource\"}},\"id\":\"200f9b5e-575a-4f45-a68e-1a040ac671f4\",\"type\":\"CDSView\"},{\"attributes\":{\"below\":[{\"id\":\"0d356de6-4d14-44e0-bd5c-f98817336185\",\"type\":\"LinearAxis\"}],\"left\":[{\"id\":\"dc2aec48-426a-49cf-b9ff-2478ccb145aa\",\"type\":\"LinearAxis\"}],\"renderers\":[{\"id\":\"0d356de6-4d14-44e0-bd5c-f98817336185\",\"type\":\"LinearAxis\"},{\"id\":\"a481aae6-4a96-4b7b-bb39-987e87f9f0ab\",\"type\":\"Grid\"},{\"id\":\"dc2aec48-426a-49cf-b9ff-2478ccb145aa\",\"type\":\"LinearAxis\"},{\"id\":\"1a6829a1-d72c-40ee-a1f6-3f126cd6a929\",\"type\":\"Grid\"},{\"id\":\"b9a9ad8b-f2ea-4167-b488-c995744e3ae6\",\"type\":\"BoxAnnotation\"},{\"id\":\"80ecd135-97dd-4bc6-bef0-5ea9a554fab3\",\"type\":\"Legend\"},{\"id\":\"e811e170-d294-49be-badd-7d618fcbbf4c\",\"type\":\"GlyphRenderer\"},{\"id\":\"684f7392-679c-4a9b-a8eb-c4764a0614d3\",\"type\":\"GlyphRenderer\"}],\"title\":{\"id\":\"5094e80f-5d8a-4c33-a3e8-a760f9e19c38\",\"type\":\"Title\"},\"toolbar\":{\"id\":\"45e2332d-3644-499f-ba09-bc06d2ad4924\",\"type\":\"Toolbar\"},\"x_range\":{\"id\":\"04cc7edf-24de-4ab7-9551-abdf4f3d9fec\",\"type\":\"DataRange1d\"},\"x_scale\":{\"id\":\"e065131d-86dc-4309-ac0b-478e1f14f102\",\"type\":\"LinearScale\"},\"y_range\":{\"id\":\"65dffbdc-7c18-4b07-9f8c-309a9a55ac9c\",\"type\":\"DataRange1d\"},\"y_scale\":{\"id\":\"b72c69bc-a54a-41c1-9c10-2e69fc6aeb7f\",\"type\":\"LinearScale\"}},\"id\":\"6301b381-66e8-4934-be71-b83c0eca2d5b\",\"subtype\":\"Figure\",\"type\":\"Plot\"},{\"attributes\":{},\"id\":\"09e2f012-c44a-478c-8fe2-8415fc6ca470\",\"type\":\"HelpTool\"},{\"attributes\":{\"line_color\":{\"value\":\"#1f77b4\"},\"line_width\":{\"value\":4},\"x\":{\"field\":\"x\"},\"y\":{\"field\":\"y\"}},\"id\":\"dad0a78f-210b-4b70-afea-c9104ce0ce75\",\"type\":\"Line\"},{\"attributes\":{},\"id\":\"270afbf4-51bd-4ffd-ab3b-e7ab1509635d\",\"type\":\"PanTool\"},{\"attributes\":{},\"id\":\"93bef32b-2793-4032-a3b4-d1a786d88670\",\"type\":\"BasicTickFormatter\"},{\"attributes\":{\"active_drag\":\"auto\",\"active_inspect\":\"auto\",\"active_scroll\":\"auto\",\"active_tap\":\"auto\",\"tools\":[{\"id\":\"270afbf4-51bd-4ffd-ab3b-e7ab1509635d\",\"type\":\"PanTool\"},{\"id\":\"84c57fef-b9c5-4057-a315-491b28eb5c3b\",\"type\":\"WheelZoomTool\"},{\"id\":\"537d1106-5596-4479-829b-acbcea5406cd\",\"type\":\"BoxZoomTool\"},{\"id\":\"ebb4809a-86e1-47bf-bb3e-0acc6e5ead38\",\"type\":\"SaveTool\"},{\"id\":\"1bf5ec3f-992a-4932-b8c5-c8337fa01ac0\",\"type\":\"ResetTool\"},{\"id\":\"09e2f012-c44a-478c-8fe2-8415fc6ca470\",\"type\":\"HelpTool\"}]},\"id\":\"45e2332d-3644-499f-ba09-bc06d2ad4924\",\"type\":\"Toolbar\"},{\"attributes\":{\"callback\":null,\"column_names\":[\"x\",\"y\"],\"data\":{\"x\":[1975,1976,1977,1978,1979,1980,1981,1982,1983,1984,1985,1986,1987,1988,1989,1990,1991,1992,1993,1994,1995,1996,1997,1998,1999,2000,2001,2002,2003,2004,2005,2006,2007,2008,2009,2010,2011,2012,2013,2014,2015,2016],\"y\":{\"__ndarray__\":\"MzMzMzPzIEDNzMzMzMweQDMzMzMzMxxASEREREREGEBmZmZmZmYXQDMzMzMzsxxAe3d3d3d3HkCpqqqqqmojQDMzMzMzMyNAhYiIiIgIHkBIRERERMQcQAAAAAAAABxAMzMzMzOzGEB7d3d3d/cVQIWIiIiICBVAe3d3d3d3FkBmZmZmZmYbQHt3d3d39x1AHyIiIiKiG0BmZmZmZmYYQOHd3d3dXRZAHyIiIiKiFUBIRERERMQTQAAAAAAAABJA4d3d3d3dEEDDu7u7u7sPQHt3d3d39xJAHyIiIiIiF0B7d3d3d/cXQK6qqqqqKhZAUlVVVVVVFEDr7u7u7m4SQHt3d3d3dxJAMzMzMzMzF0APEREREZEiQHZ3d3d3NyNA3N3d3d3dIUBmZmZmZiYgQOvu7u7ubh1AHyIiIiKiGECamZmZmRkVQAAAAAAAgBNA\",\"dtype\":\"float64\",\"shape\":[42]}}},\"id\":\"8069b685-5c12-4729-94dd-e657dc2982f6\",\"type\":\"ColumnDataSource\"},{\"attributes\":{\"axis_label\":\"year\",\"formatter\":{\"id\":\"93bef32b-2793-4032-a3b4-d1a786d88670\",\"type\":\"BasicTickFormatter\"},\"plot\":{\"id\":\"6301b381-66e8-4934-be71-b83c0eca2d5b\",\"subtype\":\"Figure\",\"type\":\"Plot\"},\"ticker\":{\"id\":\"17646e20-1b30-42e2-bbb7-6c4a735ea42c\",\"type\":\"BasicTicker\"}},\"id\":\"0d356de6-4d14-44e0-bd5c-f98817336185\",\"type\":\"LinearAxis\"},{\"attributes\":{},\"id\":\"43555b20-084f-4fd8-a0be-967513ea869d\",\"type\":\"BasicTicker\"},{\"attributes\":{},\"id\":\"e065131d-86dc-4309-ac0b-478e1f14f102\",\"type\":\"LinearScale\"},{\"attributes\":{},\"id\":\"f02737b3-9954-454a-8603-163d4bb03abc\",\"type\":\"BasicTickFormatter\"},{\"attributes\":{},\"id\":\"17646e20-1b30-42e2-bbb7-6c4a735ea42c\",\"type\":\"BasicTicker\"},{\"attributes\":{\"overlay\":{\"id\":\"b9a9ad8b-f2ea-4167-b488-c995744e3ae6\",\"type\":\"BoxAnnotation\"}},\"id\":\"537d1106-5596-4479-829b-acbcea5406cd\",\"type\":\"BoxZoomTool\"},{\"attributes\":{},\"id\":\"b72c69bc-a54a-41c1-9c10-2e69fc6aeb7f\",\"type\":\"LinearScale\"},{\"attributes\":{\"data_source\":{\"id\":\"8069b685-5c12-4729-94dd-e657dc2982f6\",\"type\":\"ColumnDataSource\"},\"glyph\":{\"id\":\"dad0a78f-210b-4b70-afea-c9104ce0ce75\",\"type\":\"Line\"},\"hover_glyph\":null,\"muted_glyph\":null,\"nonselection_glyph\":{\"id\":\"397a651b-ab3f-421d-b73f-350b9d6ef51a\",\"type\":\"Line\"},\"selection_glyph\":null,\"view\":{\"id\":\"200f9b5e-575a-4f45-a68e-1a040ac671f4\",\"type\":\"CDSView\"}},\"id\":\"684f7392-679c-4a9b-a8eb-c4764a0614d3\",\"type\":\"GlyphRenderer\"},{\"attributes\":{},\"id\":\"84c57fef-b9c5-4057-a315-491b28eb5c3b\",\"type\":\"WheelZoomTool\"}],\"root_ids\":[\"6301b381-66e8-4934-be71-b83c0eca2d5b\"]},\"title\":\"Bokeh Application\",\"version\":\"0.12.10\"}};\n    var render_items = [{\"docid\":\"d88ff302-3e37-46e3-a694-07bc4d7a6ce6\",\"elementid\":\"1abb4be0-2e73-42af-ac2a-6fbc9223c9ae\",\"modelid\":\"6301b381-66e8-4934-be71-b83c0eca2d5b\"}];\n\n    root.Bokeh.embed.embed_items(docs_json, render_items);\n  }\n\n  if (root.Bokeh !== undefined) {\n    embed_document(root);\n  } else {\n    var attempts = 0;\n    var timer = setInterval(function(root) {\n      if (root.Bokeh !== undefined) {\n        embed_document(root);\n        clearInterval(timer);\n      }\n      attempts++;\n      if (attempts > 100) {\n        console.log(\"Bokeh: ERROR: Unable to embed document because BokehJS library is missing\")\n        clearInterval(timer);\n      }\n    }, 10, root)\n  }\n})(window);", 
                        "application/vnd.bokehjs_exec.v0+json": ""
                    }, 
                    "metadata": {
                        "application/vnd.bokehjs_exec.v0+json": {
                            "id": "6301b381-66e8-4934-be71-b83c0eca2d5b"
                        }
                    }
                }
            ], 
            "execution_count": 13
        }, 
        {
            "source": "", 
            "cell_type": "code", 
            "metadata": {}, 
            "outputs": [], 
            "execution_count": null
        }
    ], 
    "metadata": {
        "kernelspec": {
            "display_name": "Python 3.5", 
            "name": "python3", 
            "language": "python"
        }, 
        "language_info": {
            "mimetype": "text/x-python", 
            "nbconvert_exporter": "python", 
            "version": "3.5.5", 
            "name": "python", 
            "pygments_lexer": "ipython3", 
            "file_extension": ".py", 
            "codemirror_mode": {
                "version": 3, 
                "name": "ipython"
            }
        }
    }, 
    "nbformat": 4
}