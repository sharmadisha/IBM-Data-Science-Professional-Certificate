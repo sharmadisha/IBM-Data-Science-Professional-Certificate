{
    "nbformat_minor": 1, 
    "cells": [
        {
            "source": "# My Jupyter Notebook on IBM Data Science Experience", 
            "cell_type": "markdown", 
            "metadata": {
                "collapsed": true
            }
        }, 
        {
            "source": "**Disha Sharma**\nData Scientist ", 
            "cell_type": "markdown", 
            "metadata": {}
        }, 
        {
            "source": "*I am interested in Data Science because of my passion for statistics and programming. As a data scientist i can code and work with data to develop business solutions and give my contribution to make the world a better place.*", 
            "cell_type": "markdown", 
            "metadata": {}
        }, 
        {
            "source": "### The following code adds two numbers input by the user:\n", 
            "cell_type": "markdown", 
            "metadata": {}
        }, 
        {
            "source": "a=int(input(\"a:\"))\nb=int(input(\"b:\"))\nprint(\"a+b =\",a+b)", 
            "cell_type": "code", 
            "metadata": {}, 
            "outputs": [
                {
                    "output_type": "stream", 
                    "name": "stdout", 
                    "text": "a:2\nb:3\na+b = 5\n"
                }
            ], 
            "execution_count": 9
        }, 
        {
            "source": "LINK : [Go to Coursera Homepage](https://www.coursera.org)", 
            "cell_type": "markdown", 
            "metadata": {}
        }, 
        {
            "source": "IMAGE: \n![alt text](https://upload.wikimedia.org/wikipedia/en/thumb/0/00/IBM_Watson_Logo_2017.png/220px-IBM_Watson_Logo_2017.png \"IBM WATSON LOGO\")", 
            "cell_type": "markdown", 
            "metadata": {}
        }, 
        {
            "source": "* Bulleted List of Courses in IBM DATA SCIENCE PROFESSIONAL CERTIFICATE\n* What is Data Science?\n* Open Source Tools for Data Science\n* Data Science Methodology\n* Python for Data Science'\n* Databases and SQL for Data Science\n* Data Analysis for Python\n* Data Visualization with Python\n* Machine Learning with Python\n* Applied Data Science Capstone\n", 
            "cell_type": "markdown", 
            "metadata": {}
        }, 
        {
            "source": "`Example` of `code` syntax `Highlighting`.", 
            "cell_type": "markdown", 
            "metadata": {}
        }, 
        {
            "source": "", 
            "cell_type": "code", 
            "metadata": {}, 
            "outputs": [], 
            "execution_count": null
        }
    ], 
    "metadata": {
        "kernelspec": {
            "display_name": "Python 3.6 with Spark", 
            "name": "python36", 
            "language": "python3"
        }, 
        "language_info": {
            "mimetype": "text/x-python", 
            "nbconvert_exporter": "python", 
            "version": "3.6.8", 
            "name": "python", 
            "pygments_lexer": "ipython3", 
            "file_extension": ".py", 
            "codemirror_mode": {
                "version": 3, 
                "name": "ipython"
            }
        }
    }, 
    "nbformat": 4
}